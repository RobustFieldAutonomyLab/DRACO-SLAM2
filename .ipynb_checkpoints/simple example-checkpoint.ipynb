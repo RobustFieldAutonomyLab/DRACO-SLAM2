{
 "cells": [
  {
   "cell_type": "code",
   "execution_count": 12,
   "metadata": {},
   "outputs": [],
   "source": [
    "import pickle\n",
    "import gtsam\n",
    "import numpy as np\n",
    "import matplotlib.pyplot as plt\n",
    "from scipy.spatial import KDTree\n",
    "\n",
    "from icp import GI_ICP\n",
    "from utils import get_points, get_all_context, numpy_to_gtsam, transform_points,get_scan_context_aggragated\n",
    "from registration import Registration\n",
    "from loop_closure import LoopClosure"
   ]
  },
  {
   "cell_type": "code",
   "execution_count": 2,
   "metadata": {},
   "outputs": [],
   "source": [
    "with open(r\"/home/jake/Desktop/holoocean_bags/scrape/1.pickle\", \"rb\") as input_file:\n",
    "    data_one = pickle.load(input_file)\n",
    "    \n",
    "with open(r\"/home/jake/Desktop/holoocean_bags/scrape/2.pickle\", \"rb\") as input_file:\n",
    "    data_two = pickle.load(input_file)"
   ]
  },
  {
   "cell_type": "code",
   "execution_count": 3,
   "metadata": {},
   "outputs": [],
   "source": [
    "poses_one = data_one[\"poses\"]\n",
    "points_one = data_one[\"points\"]\n",
    "points_t_one = data_one[\"points_t\"]\n",
    "\n",
    "poses_two = data_two[\"poses\"]\n",
    "points_two = data_two[\"points\"]\n",
    "points_t_two = data_two[\"points_t\"]"
   ]
  },
  {
   "cell_type": "code",
   "execution_count": 4,
   "metadata": {},
   "outputs": [],
   "source": [
    "SUBMAP_SIZE = 1\n",
    "BEARING_BINS = 100\n",
    "RANGE_BINS = 16\n",
    "MAX_RANGE = 40\n",
    "MAX_BEARING = 180\n",
    "KNN = 5\n",
    "MAX_TREE_DIST = 20\n",
    "\n",
    "sampling_points = 500\n",
    "iterations = 5\n",
    "tolerance = .01\n",
    "max_translation = 10\n",
    "max_rotation = 0.785398 \n",
    "\n",
    "min_points = 75\n",
    "ratio_points = 2.0         \n",
    "context_difference = 140\n",
    "min_overlap = 0.55\n",
    "\n",
    "reg = Registration(sampling_points,iterations,tolerance,max_translation,max_rotation)"
   ]
  },
  {
   "cell_type": "code",
   "execution_count": 5,
   "metadata": {},
   "outputs": [],
   "source": [
    "keys_one, context_one = get_all_context(poses_one,\n",
    "                                           points_one,\n",
    "                                           SUBMAP_SIZE,\n",
    "                                           BEARING_BINS,\n",
    "                                           RANGE_BINS,\n",
    "                                           MAX_RANGE,\n",
    "                                           MAX_BEARING)\n",
    "\n",
    "keys_two, context_two = get_all_context(poses_two,\n",
    "                                           points_two,\n",
    "                                           SUBMAP_SIZE,\n",
    "                                           BEARING_BINS,\n",
    "                                           RANGE_BINS,\n",
    "                                           MAX_RANGE,\n",
    "                                           MAX_BEARING)"
   ]
  },
  {
   "cell_type": "code",
   "execution_count": 6,
   "metadata": {},
   "outputs": [],
   "source": [
    "tree_one = KDTree(keys_one)\n",
    "tree_two = KDTree(keys_one)\n",
    "\n",
    "for i,key in enumerate(keys_one):\n",
    "    distances, indexes = tree_two.query(key,k=KNN,distance_upper_bound=MAX_TREE_DIST)\n",
    "    \n",
    "for i,key in enumerate(keys_two):\n",
    "    distances, indexes = tree_one.query(key,k=KNN,distance_upper_bound=MAX_TREE_DIST)"
   ]
  },
  {
   "cell_type": "code",
   "execution_count": 14,
   "metadata": {},
   "outputs": [
    {
     "data": {
      "text/plain": [
       "'plt.scatter(reg_points[:,0],reg_points[:,1])\\nplt.scatter(target_points[:,0],target_points[:,1])\\nplt.axis(\"square\")'"
      ]
     },
     "execution_count": 14,
     "metadata": {},
     "output_type": "execute_result"
    }
   ],
   "source": [
    "go_icp = GI_ICP(sampling_points,iterations,tolerance,max_translation,max_rotation)\n",
    "\n",
    "source_points = get_points(5,1,points_one,poses_one)\n",
    "target_points = get_points(6,1,points_one,poses_one)\n",
    "\n",
    "source_context, _ = get_scan_context_aggragated(source_points,\n",
    "                                                BEARING_BINS,\n",
    "                                                RANGE_BINS,\n",
    "                                                MAX_RANGE,\n",
    "                                                MAX_BEARING)\n",
    "\n",
    "target_context, _ = get_scan_context_aggragated(target_points,\n",
    "                                                BEARING_BINS,\n",
    "                                                RANGE_BINS,\n",
    "                                                MAX_RANGE,\n",
    "                                                MAX_BEARING)\n",
    "\n",
    "loop = LoopClosure(source_points,target_points,source_context,target_context)\n",
    "reg.evaluate(loop)\n",
    "\n",
    "'''plt.scatter(reg_points[:,0],reg_points[:,1])\n",
    "plt.scatter(target_points[:,0],target_points[:,1])\n",
    "plt.axis(\"square\")'''"
   ]
  },
  {
   "cell_type": "code",
   "execution_count": null,
   "metadata": {},
   "outputs": [],
   "source": []
  }
 ],
 "metadata": {
  "kernelspec": {
   "display_name": "Python 3",
   "language": "python",
   "name": "python3"
  },
  "language_info": {
   "codemirror_mode": {
    "name": "ipython",
    "version": 3
   },
   "file_extension": ".py",
   "mimetype": "text/x-python",
   "name": "python",
   "nbconvert_exporter": "python",
   "pygments_lexer": "ipython3",
   "version": "3.8.5"
  }
 },
 "nbformat": 4,
 "nbformat_minor": 4
}
